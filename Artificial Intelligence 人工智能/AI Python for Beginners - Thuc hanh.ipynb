{
 "cells": [
  {
   "cell_type": "code",
   "execution_count": 7,
   "id": "afcc66ad-696b-4aa8-a560-ff1afeb0b440",
   "metadata": {},
   "outputs": [
    {
     "name": "stdin",
     "output_type": "stream",
     "text": [
      "Nhập màu sắc yêu thích của bạn:  Blue\n"
     ]
    },
    {
     "name": "stdout",
     "output_type": "stream",
     "text": [
      "Màu sắc yêu thích của bạn là: Blue\n"
     ]
    }
   ],
   "source": [
    "# Thực hành lệnh code hỏi màu sắc yêu thích của bạn\n",
    "def display_favorite_color():\n",
    "    favorite_color = input(\"Nhập màu sắc yêu thích của bạn: \")\n",
    "    print(f\"Màu sắc yêu thích của bạn là: {favorite_color}\")\n",
    "\n",
    "if __name__ == \"__main__\":\n",
    "    display_favorite_color()\n"
   ]
  },
  {
   "cell_type": "code",
   "execution_count": 5,
   "id": "44b5c6ac-83e5-4804-bb45-62b6bb519228",
   "metadata": {},
   "outputs": [
    {
     "name": "stdin",
     "output_type": "stream",
     "text": [
      "Nhập vào một số nguyên để kiểm tra:  31\n"
     ]
    },
    {
     "name": "stdout",
     "output_type": "stream",
     "text": [
      "31 là số nguyên tố.\n"
     ]
    }
   ],
   "source": [
    "# Thực hành lệnh code kiểm tra số nguyên tố\n",
    "def is_prime(n):\n",
    "    \"\"\"\n",
    "    Hàm kiểm tra xem một số có phải là số nguyên tố hay không.\n",
    "    \"\"\"\n",
    "    if n <= 1:\n",
    "        return False  # Số nhỏ hơn hoặc bằng 1 không phải là số nguyên tố\n",
    "    if n <= 3:\n",
    "        return True  # 2 và 3 là số nguyên tố\n",
    "    if n % 2 == 0 or n % 3 == 0:\n",
    "        return False  # Loại bỏ các bội số của 2 và 3\n",
    "\n",
    "    # Kiểm tra các số từ 5 trở đi, tăng dần mỗi lần 6 đơn vị\n",
    "    i = 5\n",
    "    while i * i <= n:  # Chỉ kiểm tra tới căn bậc hai của n\n",
    "        if n % i == 0 or n % (i + 2) == 0:  # Chia hết cho i hoặc i+2\n",
    "            return False\n",
    "        i += 6\n",
    "    return True\n",
    "\n",
    "# Chương trình chính\n",
    "if __name__ == \"__main__\":\n",
    "    try:\n",
    "        number = int(input(\"Nhập vào một số nguyên để kiểm tra: \"))\n",
    "        if is_prime(number):\n",
    "            print(f\"{number} là số nguyên tố.\")\n",
    "        else:\n",
    "            print(f\"{number} không phải là số nguyên tố.\")\n",
    "    except ValueError:\n",
    "        print(\"Vui lòng nhập một số nguyên hợp lệ!\")\n"
   ]
  },
  {
   "cell_type": "code",
   "execution_count": 9,
   "id": "6fce6a20-c1f1-4f99-a53e-fa9ee1189a56",
   "metadata": {},
   "outputs": [
    {
     "name": "stdout",
     "output_type": "stream",
     "text": [
      "Giải phương trình bậc 3 dạng ax^3 + bx^2 + cx + d = 0\n"
     ]
    },
    {
     "name": "stdin",
     "output_type": "stream",
     "text": [
      "Nhập hệ số a:  15\n",
      "Nhập hệ số b:  25\n",
      "Nhập hệ số c:  10\n",
      "Nhập hệ số d:  -50\n"
     ]
    },
    {
     "name": "stdout",
     "output_type": "stream",
     "text": [
      "Các nghiệm của phương trình là:\n",
      "  Nghiệm x1: -1.07317-0.73791j\n",
      "  Nghiệm x2: 0.47967-0.00000j\n",
      "  Nghiệm x3: -1.07317+0.73791j\n"
     ]
    }
   ],
   "source": [
    "# Thực hành lệnh code viết chương trình giải phương trình bậc 3\n",
    "import cmath  # Dùng để xử lý các số phức\n",
    "\n",
    "def solve_cubic(a, b, c, d):\n",
    "    \"\"\"\n",
    "    Hàm giải phương trình bậc 3 dạng ax^3 + bx^2 + cx + d = 0\n",
    "    \"\"\"\n",
    "    if a == 0:\n",
    "        print(\"Hệ số a không được bằng 0 trong phương trình bậc 3.\")\n",
    "        return\n",
    "\n",
    "    # Tính các hệ số phụ\n",
    "    delta = 18 * a * b * c * d - 4 * b**3 * d + b**2 * c**2 - 4 * a * c**3 - 27 * a**2 * d**2\n",
    "    delta0 = b**2 - 3 * a * c\n",
    "    delta1 = 2 * b**3 - 9 * a * b * c + 27 * a**2 * d\n",
    "\n",
    "    C = cmath.sqrt(delta1**2 - 4 * delta0**3) / 2\n",
    "    C = ((delta1 + C) / 2)**(1/3) if C != 0 else ((delta1 - C) / 2)**(1/3)\n",
    "\n",
    "    # Các nghiệm của phương trình\n",
    "    omega = (-1 + cmath.sqrt(-3)) / 2  # Nghiệm bậc 3 của 1\n",
    "\n",
    "    roots = []\n",
    "    for k in range(3):\n",
    "        x_k = -1 / (3 * a) * (b + omega**k * C + delta0 / (omega**k * C))\n",
    "        roots.append(x_k)\n",
    "\n",
    "    return roots\n",
    "\n",
    "# Chương trình chính\n",
    "if __name__ == \"__main__\":\n",
    "    try:\n",
    "        print(\"Giải phương trình bậc 3 dạng ax^3 + bx^2 + cx + d = 0\")\n",
    "        a = float(input(\"Nhập hệ số a: \"))\n",
    "        b = float(input(\"Nhập hệ số b: \"))\n",
    "        c = float(input(\"Nhập hệ số c: \"))\n",
    "        d = float(input(\"Nhập hệ số d: \"))\n",
    "\n",
    "        # Giải phương trình\n",
    "        roots = solve_cubic(a, b, c, d)\n",
    "\n",
    "        if roots:\n",
    "            print(\"Các nghiệm của phương trình là:\")\n",
    "            for i, root in enumerate(roots, start=1):\n",
    "                print(f\"  Nghiệm x{i}: {root:.5f}\")\n",
    "    except ValueError:\n",
    "        print(\"Vui lòng nhập đúng định dạng số thực.\")\n"
   ]
  },
  {
   "cell_type": "code",
   "execution_count": 11,
   "id": "bc7fb5cb-14d6-4f96-af5b-7a7925f5afbd",
   "metadata": {},
   "outputs": [
    {
     "name": "stdout",
     "output_type": "stream",
     "text": [
      "Question: How are you feeling today?\n",
      "I'm feeling great, thank you for asking! 😊\n"
     ]
    }
   ],
   "source": [
    "# Lệnh code how are you today\n",
    "def how_are_you_feeling():\n",
    "    \"\"\"\n",
    "    Hàm trả lời câu hỏi \"How are you feeling today?\"\n",
    "    \"\"\"\n",
    "    # Câu trả lời cố định\n",
    "    feeling_response = \"I'm feeling great, thank you for asking! 😊\"\n",
    "\n",
    "    # Hiển thị câu trả lời\n",
    "    print(feeling_response)\n",
    "\n",
    "# Chương trình chính\n",
    "if __name__ == \"__main__\":\n",
    "    print(\"Question: How are you feeling today?\")\n",
    "    how_are_you_feeling()\n"
   ]
  },
  {
   "cell_type": "code",
   "execution_count": 13,
   "id": "f4759679-cbd8-4734-b737-10850de050fd",
   "metadata": {},
   "outputs": [
    {
     "name": "stdin",
     "output_type": "stream",
     "text": [
      "How are you feeling today?  i'm fine. Tks.\n"
     ]
    },
    {
     "name": "stdout",
     "output_type": "stream",
     "text": [
      "Thank you for sharing! You said: 'i'm fine. Tks.'\n"
     ]
    }
   ],
   "source": [
    "# Lệnh code how are you có ô trả lời\n",
    "def ask_user_feeling():\n",
    "    \"\"\"\n",
    "    Hàm hỏi và nhận câu trả lời từ người dùng\n",
    "    \"\"\"\n",
    "    user_response = input(\"How are you feeling today? \")\n",
    "    print(f\"Thank you for sharing! You said: '{user_response}'\")\n",
    "\n",
    "# Chương trình chính\n",
    "if __name__ == \"__main__\":\n",
    "    ask_user_feeling()\n"
   ]
  },
  {
   "cell_type": "code",
   "execution_count": 16,
   "id": "06b7752c-c659-4c14-8da0-2cc5e3b9b7fa",
   "metadata": {},
   "outputs": [],
   "source": [
    "# Lệnh code how are you sử dụng tkinter\n",
    "import tkinter as tk\n",
    "from tkinter import messagebox\n",
    "\n",
    "def submit_response():\n",
    "    \"\"\"\n",
    "    Hàm xử lý khi người dùng nhấn nút Submit\n",
    "    \"\"\"\n",
    "    response = entry.get()  # Lấy dữ liệu từ ô nhập\n",
    "    messagebox.showinfo(\"Your Response\", f\"How are you feeling today?\\nYou said: '{response}'\")\n",
    "\n",
    "# Tạo cửa sổ chính\n",
    "root = tk.Tk()\n",
    "root.title(\"How Are You Feeling Today?\")\n",
    "\n",
    "# Tạo nhãn và ô nhập liệu\n",
    "label = tk.Label(root, text=\"How are you feeling today?\")\n",
    "label.pack(pady=10)\n",
    "\n",
    "entry = tk.Entry(root, width=40)\n",
    "entry.pack(pady=5)\n",
    "\n",
    "# Tạo nút Submit\n",
    "button = tk.Button(root, text=\"Submit\", command=submit_response)\n",
    "button.pack(pady=10)\n",
    "\n",
    "# Chạy chương trình\n",
    "root.mainloop()\n"
   ]
  },
  {
   "cell_type": "code",
   "execution_count": 18,
   "id": "01cbd8f0-7151-4cd8-a831-ba62edf9e2f3",
   "metadata": {},
   "outputs": [
    {
     "name": "stdout",
     "output_type": "stream",
     "text": [
      "Chương trình mã hóa và giải mã hai chiều\n"
     ]
    },
    {
     "name": "stdin",
     "output_type": "stream",
     "text": [
      "Nhập chuỗi cần mã hóa:  AI Python for Beginners: Basics of AI Python Coding - Deeplearning.ai\n"
     ]
    },
    {
     "name": "stdout",
     "output_type": "stream",
     "text": [
      "\n",
      "Chuỗi đã được mã hóa: gAAAAABnYn3vv7QAVa90UpaB-8WFzZC2bJgxIlnfVKqB0kfOvA3z7DwbcYGp3nTQYcivb3XAbHXiaRLQpoRFZwSUMPq2UhWYalj4nKtWBAodIBwmzudVbEb2dCEfTQPWPMJ0CL4PZJg-pAtMPc3AjJ4fGHWLbvqXXp-xVdSG-6wekO9c8vzXQDQ=\n",
      "Chuỗi đã giải mã: AI Python for Beginners: Basics of AI Python Coding - Deeplearning.ai\n"
     ]
    }
   ],
   "source": [
    "# Lệnh code tạo chương trình mã hóa 2 chiều, sử dụng hàm băm SHA-256 với key là 'hoanglong208'\n",
    "from cryptography.fernet import Fernet\n",
    "import base64\n",
    "import hashlib\n",
    "\n",
    "def generate_key(secret_key):\n",
    "    \"\"\"\n",
    "    Hàm tạo khóa mã hóa từ secret key người dùng cung cấp\n",
    "    \"\"\"\n",
    "    # Băm secret key bằng SHA-256 để đảm bảo khóa dài đúng 32 byte\n",
    "    key = hashlib.sha256(secret_key.encode()).digest()\n",
    "    # Chuyển sang dạng base64 (được yêu cầu bởi Fernet)\n",
    "    return base64.urlsafe_b64encode(key[:32])\n",
    "\n",
    "def encrypt_message(message, secret_key):\n",
    "    \"\"\"\n",
    "    Hàm mã hóa thông điệp sử dụng khóa bí mật\n",
    "    \"\"\"\n",
    "    key = generate_key(secret_key)\n",
    "    f = Fernet(key)\n",
    "    encrypted_message = f.encrypt(message.encode())\n",
    "    return encrypted_message\n",
    "\n",
    "def decrypt_message(encrypted_message, secret_key):\n",
    "    \"\"\"\n",
    "    Hàm giải mã thông điệp sử dụng khóa bí mật\n",
    "    \"\"\"\n",
    "    key = generate_key(secret_key)\n",
    "    f = Fernet(key)\n",
    "    decrypted_message = f.decrypt(encrypted_message).decode()\n",
    "    return decrypted_message\n",
    "\n",
    "# Chương trình chính\n",
    "if __name__ == \"__main__\":\n",
    "    secret_key = \"hoanglong208\"  # Key cố định\n",
    "    print(\"Chương trình mã hóa và giải mã hai chiều\")\n",
    "    \n",
    "    try:\n",
    "        # Nhập dữ liệu từ người dùng\n",
    "        user_input = input(\"Nhập chuỗi cần mã hóa: \")\n",
    "        \n",
    "        # Mã hóa\n",
    "        encrypted = encrypt_message(user_input, secret_key)\n",
    "        print(f\"\\nChuỗi đã được mã hóa: {encrypted.decode()}\")\n",
    "        \n",
    "        # Giải mã\n",
    "        decrypted = decrypt_message(encrypted, secret_key)\n",
    "        print(f\"Chuỗi đã giải mã: {decrypted}\")\n",
    "        \n",
    "    except Exception as e:\n",
    "        print(f\"Đã xảy ra lỗi: {e}\")\n"
   ]
  },
  {
   "cell_type": "code",
   "execution_count": 20,
   "id": "660e7fc4-5d85-4538-9fa7-bec9c4243f82",
   "metadata": {},
   "outputs": [
    {
     "ename": "ModuleNotFoundError",
     "evalue": "No module named 'helper_functions'",
     "output_type": "error",
     "traceback": [
      "\u001b[1;31m---------------------------------------------------------------------------\u001b[0m",
      "\u001b[1;31mModuleNotFoundError\u001b[0m                       Traceback (most recent call last)",
      "Cell \u001b[1;32mIn[20], line 1\u001b[0m\n\u001b[1;32m----> 1\u001b[0m \u001b[38;5;28;01mfrom\u001b[39;00m \u001b[38;5;21;01mhelper_functions\u001b[39;00m \u001b[38;5;28;01mimport\u001b[39;00m print_llm_response\n",
      "\u001b[1;31mModuleNotFoundError\u001b[0m: No module named 'helper_functions'"
     ]
    }
   ],
   "source": [
    "from helper_functions import print_llm_response"
   ]
  },
  {
   "cell_type": "code",
   "execution_count": null,
   "id": "b0739010-962f-4dc1-bee6-cb71b7788d7b",
   "metadata": {},
   "outputs": [],
   "source": []
  }
 ],
 "metadata": {
  "kernelspec": {
   "display_name": "Python [conda env:base] *",
   "language": "python",
   "name": "conda-base-py"
  },
  "language_info": {
   "codemirror_mode": {
    "name": "ipython",
    "version": 3
   },
   "file_extension": ".py",
   "mimetype": "text/x-python",
   "name": "python",
   "nbconvert_exporter": "python",
   "pygments_lexer": "ipython3",
   "version": "3.12.7"
  }
 },
 "nbformat": 4,
 "nbformat_minor": 5
}
